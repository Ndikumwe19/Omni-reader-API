{
 "cells": [
  {
   "cell_type": "code",
   "execution_count": 16,
   "id": "cc429c36",
   "metadata": {},
   "outputs": [],
   "source": [
    "import requests\n",
    "import os"
   ]
  },
  {
   "cell_type": "code",
   "execution_count": 17,
   "id": "dc7b3fa3",
   "metadata": {},
   "outputs": [],
   "source": [
    "url = \"https://freeocrapi.com/api\""
   ]
  },
  {
   "cell_type": "code",
   "execution_count": 18,
   "id": "29e96eac",
   "metadata": {},
   "outputs": [],
   "source": [
    "filename = \"files/file2.jpeg\"\n",
    "data = {'file': open(filename, 'rb')}"
   ]
  },
  {
   "cell_type": "code",
   "execution_count": 4,
   "id": "3d5e948e",
   "metadata": {},
   "outputs": [],
   "source": [
    "response = requests.request(\"POST\", url, files=data)"
   ]
  },
  {
   "cell_type": "code",
   "execution_count": 5,
   "id": "e8e9b8f3",
   "metadata": {},
   "outputs": [
    {
     "data": {
      "text/plain": [
       "'<!DOCTYPE HTML PUBLIC \"-//IETF//DTD HTML 2.0//EN\">\\n<html><head>\\n<title>503 Service Unavailable</title>\\n</head><body>\\n<h1>Service Unavailable</h1>\\n<p>The server is temporarily unable to service your\\nrequest due to maintenance downtime or capacity\\nproblems. Please try again later.</p>\\n<hr>\\n<address>Apache/2.4.29 (Ubuntu) Server at freeocrapi.com Port 80</address>\\n</body></html>\\n'"
      ]
     },
     "execution_count": 5,
     "metadata": {},
     "output_type": "execute_result"
    }
   ],
   "source": [
    "response.text"
   ]
  },
  {
   "cell_type": "code",
   "execution_count": 19,
   "id": "8b38b6a2",
   "metadata": {},
   "outputs": [],
   "source": [
    "import textract"
   ]
  },
  {
   "cell_type": "code",
   "execution_count": 20,
   "id": "e5ff74d9",
   "metadata": {},
   "outputs": [],
   "source": [
    "text = textract.process(\n",
    "    filename,\n",
    "    method='tesseract'\n",
    ")"
   ]
  },
  {
   "cell_type": "code",
   "execution_count": 21,
   "id": "7b072bd3",
   "metadata": {},
   "outputs": [
    {
     "data": {
      "text/plain": [
       "b' \\n\\x0c'"
      ]
     },
     "execution_count": 21,
     "metadata": {},
     "output_type": "execute_result"
    }
   ],
   "source": [
    "text"
   ]
  },
  {
   "cell_type": "code",
   "execution_count": 22,
   "id": "3004262b",
   "metadata": {},
   "outputs": [],
   "source": [
    "import json\n",
    "import shutil"
   ]
  },
  {
   "cell_type": "code",
   "execution_count": 23,
   "id": "43d52995",
   "metadata": {},
   "outputs": [],
   "source": [
    "# Provide your username and license code\n",
    "LicenseCode = '687E4421-667D-4427-B92B-F0CCABE73B7F';\n",
    "UserName =  'NDIKUMWE';"
   ]
  },
  {
   "cell_type": "code",
   "execution_count": 24,
   "id": "aa454d3c",
   "metadata": {},
   "outputs": [],
   "source": [
    "try:\n",
    "\timport requests\n",
    "except ImportError:\n",
    "\tprint(\"You need the requests library to be installed in order to use this sample.\")\n",
    "\tprint(\"Run 'pip install requests' to fix it.\")\n",
    "\n",
    "\texit()\n"
   ]
  },
  {
   "cell_type": "code",
   "execution_count": 26,
   "id": "78905cf1",
   "metadata": {},
   "outputs": [],
   "source": [
    "RequestUrl = \"http://www.ocrwebservice.com/restservices/processDocument?gettext=true\";\n",
    "\n",
    "FilePath = \"C:\\\\test_image.jpg\"\n",
    "\n",
    "with open(filename, 'rb') as image_file:\n",
    "    image_data = image_file.read()\n",
    "    \n",
    "r = requests.post(RequestUrl, data=image_data, auth=(UserName, LicenseCode))"
   ]
  },
  {
   "cell_type": "code",
   "execution_count": 36,
   "id": "d7589edd",
   "metadata": {},
   "outputs": [
    {
     "data": {
      "text/plain": [
       "[['Environments‘ Systems and Societies ']]"
      ]
     },
     "execution_count": 36,
     "metadata": {},
     "output_type": "execute_result"
    }
   ],
   "source": [
    "r.json()['OCRText']"
   ]
  },
  {
   "cell_type": "code",
   "execution_count": null,
   "id": "5461bb06",
   "metadata": {},
   "outputs": [],
   "source": []
  }
 ],
 "metadata": {
  "kernelspec": {
   "display_name": "Python 3 (ipykernel)",
   "language": "python",
   "name": "python3"
  },
  "language_info": {
   "codemirror_mode": {
    "name": "ipython",
    "version": 3
   },
   "file_extension": ".py",
   "mimetype": "text/x-python",
   "name": "python",
   "nbconvert_exporter": "python",
   "pygments_lexer": "ipython3",
   "version": "3.8.10"
  }
 },
 "nbformat": 4,
 "nbformat_minor": 5
}
